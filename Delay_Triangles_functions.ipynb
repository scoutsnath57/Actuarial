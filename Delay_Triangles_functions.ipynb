{
 "cells": [
  {
   "cell_type": "code",
   "execution_count": 7,
   "metadata": {},
   "outputs": [],
   "source": [
    "import pandas as pd # Access the Pandas library, let's me utilise dataframes\n",
    "import matplotlib as plt #Import matplotlib library, probably don't need it though\n",
    "import numpy as np"
   ]
  },
  {
   "cell_type": "code",
   "execution_count": 8,
   "metadata": {},
   "outputs": [],
   "source": [
    "# a is the claims\n",
    "def delaytriangle(a):\n",
    "    for i in range(0,a.shape[0]):\n",
    "        for j in range(0,a.shape[1]):\n",
    "            if a.isna().iloc[i][j] == True:\n",
    "                a.iloc[i,j] = 0 #Replaces the nans with 0\n",
    "                \n",
    "    development_factors = []\n",
    "    for j in range(a.shape[1]-1,1,-1):\n",
    "        counter = 0\n",
    "        counter_1 = 0 #reset counting definition\n",
    "        for i in range(0,a.shape[0],1):\n",
    "            if a.iloc[i,j] != 0:\n",
    "                counter = counter + a.iloc[i,j] #Adds up the claims\n",
    "                counter_1 = counter_1 + a.iloc[i,j-1] #adds the claims on the second right most column\n",
    "        development_factors.append(counter/counter_1)#Provides the developement factors\n",
    "        \n",
    "    for i in range(a.shape[0]-1,-1,-1):\n",
    "        k = len(development_factors)-1 \n",
    "        for j in range(1,a.shape[1]):\n",
    "            if j<a.shape[1] - 1 and a.iloc[i,j+1] == 0 :\n",
    "                a.iloc[i,j+1] = a.iloc[i,j] * development_factors[k] #Multiplies the claims by developmenfactors to find next year's claim\n",
    "            k = k - 1\n",
    "            \n",
    "    Total_Claims = 0\n",
    "    for i in range(0,a.shape[0]):\n",
    "        Total_Claims = Total_Claims + a.iloc[i,a.shape[1] - 1]\n",
    "        \n",
    "    Settled_Claims = 0   \n",
    "    counter = a.shape[0]\n",
    "    for i in range(0,a.shape[0]):\n",
    "        Settled_Claims = Settled_Claims + a.iloc[i, counter]\n",
    "        counter = counter - 1\n",
    "        \n",
    "    Required_Reserves = Total_Claims - Settled_Claims\n",
    "\n",
    "    d_triangle = {'Table': a,\n",
    "                 'Total_Claims': Total_Claims,\n",
    "                 'Settled_Claims': Settled_Claims,\n",
    "                 'Required_Reserves': Required_Reserves}\n",
    "    return d_triangle"
   ]
  },
  {
   "cell_type": "code",
   "execution_count": 9,
   "metadata": {},
   "outputs": [],
   "source": [
    "# a is the claims and b is the premiums\n",
    "def bftriangle(a,b):\n",
    "    for i in range(0,a.shape[0]):\n",
    "        for j in range(0,a.shape[1]):\n",
    "            if a.isna().iloc[i][j] == True:\n",
    "                a.iloc[i,j] = 0 #Replaces the nans with 0\n",
    "                \n",
    "    development_factors = []\n",
    "    for j in range(a.shape[1]-1,1,-1):\n",
    "        counter = 0\n",
    "        counter_1 = 0 #reset counting definition\n",
    "        for i in range(0,a.shape[0],1):\n",
    "            if a.iloc[i,j] != 0:\n",
    "                counter = counter + a.iloc[i,j] #Adds up the claims\n",
    "                counter_1 = counter_1 + a.iloc[i,j-1] #adds the claims on the second right most column\n",
    "        development_factors.append(counter/counter_1)#Provides the developement factors\n",
    "        \n",
    "    for i in range(a.shape[0]-1,-1,-1):\n",
    "        k = len(development_factors)-1 \n",
    "        for j in range(1,a.shape[1]):\n",
    "            if j<a.shape[1] - 1 and a.iloc[i,j+1] == 0 :\n",
    "                a.iloc[i,j+1] = a.iloc[i,j] * development_factors[k] #Multiplies the claims by developmenfactors to find next year's claim\n",
    "            k = k - 1\n",
    "            \n",
    "    Total_Claims = 0\n",
    "    for i in range(0,a.shape[0]):\n",
    "        Total_Claims = Total_Claims + a.iloc[i,a.shape[1] - 1]\n",
    "        \n",
    "    Settled_Claims = 0   \n",
    "    counter = a.shape[0]\n",
    "    for i in range(0,a.shape[0]):\n",
    "        Settled_Claims = Settled_Claims + a.iloc[i, counter]\n",
    "        counter = counter - 1\n",
    "        \n",
    "    Required_Reserves = Total_Claims - Settled_Claims\n",
    "    \n",
    "    ult = a.iloc[0, a.shape[1]-1]\n",
    "    loss_ratio = ult/b.iloc[0,0]\n",
    "    ult_list = prems * loss_ratio  #Produce the list of ultimate claims\n",
    "\n",
    "    F = [1] #Making the cumulative development factors\n",
    "    for i in range(0, len(development_factors)):\n",
    "        F.append(F[i] * development_factors[i])\n",
    "\n",
    "    newF = []\n",
    "    for i in range(0, len(F)):\n",
    "        newF.append(1 - 1/F[i])\n",
    "        \n",
    "    emerging = []\n",
    "    for i in range(0,len(newF)):\n",
    "        emerging.append(newF[i] * ult_list.iloc[i,0])\n",
    "\n",
    "    ORR = 0 \n",
    "    for i in range(0,len(emerging)):  #Calculate the overall reserve requirement\n",
    "        ORR = ORR + emerging[i]\n",
    "\n",
    "    bf_triangle = {'Table': a,\n",
    "                'Total_Claims': Total_Claims,\n",
    "                'Settled_Claims': Settled_Claims,\n",
    "                'Required_Reserves': Required_Reserves,\n",
    "                'Premiums': prems,\n",
    "                'Ultimate_Claims': ult_list,\n",
    "                'Emerging_Liabilities': emerging,\n",
    "                 'Overall_Reserve_Requirement': ORR}\n",
    "    return bf_triangle"
   ]
  },
  {
   "cell_type": "code",
   "execution_count": 10,
   "metadata": {},
   "outputs": [],
   "source": [
    "delay_test = pd.read_csv(\"delay_test.csv\")\n",
    "prems = pd.read_csv(\"Premiums.csv\")"
   ]
  },
  {
   "cell_type": "code",
   "execution_count": 11,
   "metadata": {},
   "outputs": [
    {
     "data": {
      "text/plain": [
       "{'Table':    Years    0           1           2           3\n",
       " 0   2005   96  136.000000  140.000000  168.000000\n",
       " 1   2006  100  156.000000  160.000000  192.000000\n",
       " 2   2007  120  130.000000  133.561644  160.273973\n",
       " 3   2008  136  181.620253  186.596151  223.915381,\n",
       " 'Total_Claims': 744.189353216577,\n",
       " 'Settled_Claims': 594.0,\n",
       " 'Required_Reserves': 150.18935321657705}"
      ]
     },
     "execution_count": 11,
     "metadata": {},
     "output_type": "execute_result"
    }
   ],
   "source": [
    "delaytriangle(delay_test)\n"
   ]
  },
  {
   "cell_type": "code",
   "execution_count": 12,
   "metadata": {},
   "outputs": [
    {
     "data": {
      "text/plain": [
       "{'Table':    Years    0           1           2           3\n",
       " 0   2005   96  136.000000  140.000000  168.000000\n",
       " 1   2006  100  156.000000  160.000000  192.000000\n",
       " 2   2007  120  130.000000  133.561644  160.273973\n",
       " 3   2008  136  181.620253  186.596151  223.915381,\n",
       " 'Total_Claims': 744.189353216577,\n",
       " 'Settled_Claims': 594.0,\n",
       " 'Required_Reserves': 150.18935321657705,\n",
       " 'Premiums':    Premiums Received\n",
       " 0                175\n",
       " 1                181\n",
       " 2                190\n",
       " 3                196,\n",
       " 'Ultimate_Claims':    Premiums Received\n",
       " 0             168.00\n",
       " 1             173.76\n",
       " 2             182.40\n",
       " 3             188.16,\n",
       " 'Emerging_Liabilities': [0.0,\n",
       "  28.959999999999994,\n",
       "  34.45333333333333,\n",
       "  73.87682780410744],\n",
       " 'Overall_Reserve_Requirement': 137.29016113744075}"
      ]
     },
     "execution_count": 12,
     "metadata": {},
     "output_type": "execute_result"
    }
   ],
   "source": [
    "bftriangle(delay_test, prems)"
   ]
  },
  {
   "cell_type": "code",
   "execution_count": null,
   "metadata": {},
   "outputs": [],
   "source": []
  }
 ],
 "metadata": {
  "kernelspec": {
   "display_name": "Python 3",
   "language": "python",
   "name": "python3"
  },
  "language_info": {
   "codemirror_mode": {
    "name": "ipython",
    "version": 3
   },
   "file_extension": ".py",
   "mimetype": "text/x-python",
   "name": "python",
   "nbconvert_exporter": "python",
   "pygments_lexer": "ipython3",
   "version": "3.8.5"
  }
 },
 "nbformat": 4,
 "nbformat_minor": 4
}
